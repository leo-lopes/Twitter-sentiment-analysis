{
 "cells": [
  {
   "cell_type": "code",
   "execution_count": 1,
   "id": "5f98cdb2",
   "metadata": {
    "scrolled": true
   },
   "outputs": [
    {
     "name": "stdout",
     "output_type": "stream",
     "text": [
      "Requirement already satisfied: tweepy in c:\\users\\mavih\\anaconda3\\lib\\site-packages (4.10.0)\n",
      "Requirement already satisfied: requests-oauthlib<2,>=1.2.0 in c:\\users\\mavih\\anaconda3\\lib\\site-packages (from tweepy) (1.3.1)\n",
      "Requirement already satisfied: oauthlib<4,>=3.2.0 in c:\\users\\mavih\\anaconda3\\lib\\site-packages (from tweepy) (3.2.0)\n",
      "Requirement already satisfied: requests<3,>=2.27.0 in c:\\users\\mavih\\anaconda3\\lib\\site-packages (from tweepy) (2.28.1)\n",
      "Requirement already satisfied: urllib3<1.27,>=1.21.1 in c:\\users\\mavih\\anaconda3\\lib\\site-packages (from requests<3,>=2.27.0->tweepy) (1.26.7)\n",
      "Requirement already satisfied: certifi>=2017.4.17 in c:\\users\\mavih\\anaconda3\\lib\\site-packages (from requests<3,>=2.27.0->tweepy) (2021.10.8)\n",
      "Requirement already satisfied: charset-normalizer<3,>=2 in c:\\users\\mavih\\anaconda3\\lib\\site-packages (from requests<3,>=2.27.0->tweepy) (2.0.4)\n",
      "Requirement already satisfied: idna<4,>=2.5 in c:\\users\\mavih\\anaconda3\\lib\\site-packages (from requests<3,>=2.27.0->tweepy) (3.2)\n"
     ]
    }
   ],
   "source": [
    "!pip install tweepy"
   ]
  },
  {
   "cell_type": "code",
   "execution_count": 2,
   "id": "a71c172d",
   "metadata": {
    "scrolled": true
   },
   "outputs": [
    {
     "name": "stdout",
     "output_type": "stream",
     "text": [
      "Requirement already satisfied: wordcloud in c:\\users\\mavih\\anaconda3\\lib\\site-packages (1.8.2.2)\n",
      "Requirement already satisfied: pillow in c:\\users\\mavih\\anaconda3\\lib\\site-packages (from wordcloud) (8.4.0)\n",
      "Requirement already satisfied: numpy>=1.6.1 in c:\\users\\mavih\\anaconda3\\lib\\site-packages (from wordcloud) (1.20.3)\n",
      "Requirement already satisfied: matplotlib in c:\\users\\mavih\\anaconda3\\lib\\site-packages (from wordcloud) (3.4.3)\n",
      "Requirement already satisfied: cycler>=0.10 in c:\\users\\mavih\\anaconda3\\lib\\site-packages (from matplotlib->wordcloud) (0.10.0)\n",
      "Requirement already satisfied: pyparsing>=2.2.1 in c:\\users\\mavih\\anaconda3\\lib\\site-packages (from matplotlib->wordcloud) (3.0.4)\n",
      "Requirement already satisfied: kiwisolver>=1.0.1 in c:\\users\\mavih\\anaconda3\\lib\\site-packages (from matplotlib->wordcloud) (1.3.1)\n",
      "Requirement already satisfied: python-dateutil>=2.7 in c:\\users\\mavih\\anaconda3\\lib\\site-packages (from matplotlib->wordcloud) (2.8.2)\n",
      "Requirement already satisfied: six in c:\\users\\mavih\\anaconda3\\lib\\site-packages (from cycler>=0.10->matplotlib->wordcloud) (1.16.0)\n"
     ]
    }
   ],
   "source": [
    "!pip install wordcloud"
   ]
  },
  {
   "cell_type": "code",
   "execution_count": 3,
   "id": "25caade9",
   "metadata": {},
   "outputs": [
    {
     "name": "stdout",
     "output_type": "stream",
     "text": [
      "Requirement already satisfied: plotly in c:\\users\\mavih\\anaconda3\\lib\\site-packages (5.9.0)\n",
      "Requirement already satisfied: tenacity>=6.2.0 in c:\\users\\mavih\\anaconda3\\lib\\site-packages (from plotly) (8.0.1)\n"
     ]
    }
   ],
   "source": [
    "!pip install plotly"
   ]
  },
  {
   "cell_type": "code",
   "execution_count": 4,
   "id": "cf6c7920",
   "metadata": {
    "scrolled": true
   },
   "outputs": [],
   "source": [
    "import tweepy\n",
    "import re \n",
    "from textblob import TextBlob\n",
    "from wordcloud import WordCloud\n",
    "import matplotlib.pyplot as plt\n",
    "plt.style.use('fivethirtyeight')\n",
    "import seaborn as sns \n",
    "import plotly.express as px"
   ]
  },
  {
   "cell_type": "code",
   "execution_count": 26,
   "id": "e6b25e4a",
   "metadata": {},
   "outputs": [],
   "source": [
    "#insert you bearer in a text file called bearer.txt\n",
    "with open(\"bearer.txt\", \"r\") as f:\n",
    "    MY_BEARER_TOKEN = str(f.readlines()[0])\n",
    "client = tweepy.Client(bearer_token=MY_BEARER_TOKEN)"
   ]
  },
  {
   "cell_type": "code",
   "execution_count": 27,
   "id": "d926b964",
   "metadata": {},
   "outputs": [],
   "source": [
    "# query to search for tweets\n",
    "query = \"Covid lang:en\"\n",
    "\n",
    "# your start and end time for fetching tweets\n",
    "start_time = \"2022-07-23T00:00:00Z\"\n",
    "end_time = \"2022-07-28T00:00:00Z\"\n",
    "\n",
    "# get tweets from the API\n",
    "tweets = client.search_recent_tweets(query=query,\n",
    "                                     start_time=start_time,\n",
    "                                     end_time=end_time,\n",
    "                                     tweet_fields = [\"created_at\", \"text\", \"source\"],\n",
    "                                     user_fields = [\"name\", \"username\", \"location\", \"verified\", \"description\"],\n",
    "                                     max_results = 100,\n",
    "                                     expansions='author_id'\n",
    "                                     )"
   ]
  },
  {
   "cell_type": "code",
   "execution_count": null,
   "id": "377c36c0",
   "metadata": {},
   "outputs": [],
   "source": [
    "# import the pandas library\n",
    "import pandas as pd\n",
    "\n",
    "# create a list of records\n",
    "tweet_info_ls = []\n",
    "\n",
    "# iterate over each tweet and corresponding user details\n",
    "for tweet, user in zip(tweets.data, tweets.includes['users']):\n",
    "    tweet_info = {\n",
    "        'created_at': tweet.created_at,\n",
    "        'text': tweet.text,\n",
    "        'source': tweet.source,\n",
    "        'name': user.name,\n",
    "        'username': user.username,\n",
    "        'location': user.location,\n",
    "        'verified': user.verified,\n",
    "        'description': user.description\n",
    "    }\n",
    "    tweet_info_ls.append(tweet_info)\n",
    "\n",
    "# create dataframe from the extracted records\n",
    "tweets_df = pd.DataFrame(tweet_info_ls)\n",
    "# display the dataframe\n",
    "tweets_df"
   ]
  },
  {
   "cell_type": "code",
   "execution_count": null,
   "id": "6a8645f4",
   "metadata": {
    "scrolled": false
   },
   "outputs": [],
   "source": [
    "pip install textblob"
   ]
  },
  {
   "cell_type": "code",
   "execution_count": null,
   "id": "996d1005",
   "metadata": {
    "scrolled": true
   },
   "outputs": [],
   "source": [
    "tweets1 = tweets_df.iloc[:,1:2]\n",
    "tweets1"
   ]
  },
  {
   "cell_type": "code",
   "execution_count": null,
   "id": "e93014aa",
   "metadata": {},
   "outputs": [],
   "source": [
    "for i in range(0,len(tweets1)):\n",
    "    print(tweets1.iloc[i])"
   ]
  },
  {
   "cell_type": "code",
   "execution_count": null,
   "id": "e8e72524",
   "metadata": {},
   "outputs": [],
   "source": [
    "# Let's create a function that clean the tweets\n",
    "def clean(text):\n",
    "    text = re.sub(r'@[A-Za-z0-9]+',' ',text) #remove @mentions\n",
    "    text = re.sub(r'#','',text) #remove #\n",
    "    text = re.sub(r'RT[\\s]+','',text) #remove RT\n",
    "    text = re.sub(r'https?:\\/\\/\\S+','',text)\n",
    "    \n",
    "    return text"
   ]
  },
  {
   "cell_type": "code",
   "execution_count": null,
   "id": "c57a1f27",
   "metadata": {},
   "outputs": [],
   "source": [
    "tweets1['text'] = tweets1['text'].apply(clean)\n",
    "tweets1"
   ]
  },
  {
   "cell_type": "code",
   "execution_count": null,
   "id": "d9b99d8a",
   "metadata": {},
   "outputs": [],
   "source": [
    "#create a function to get the subjectivity\n",
    "def getsubjectivity(text):\n",
    "    return TextBlob(text).sentiment.subjectivity\n",
    "#create a function to get the polarity\n",
    "def getpolarity(text):\n",
    "    return TextBlob(text).sentiment.polarity\n"
   ]
  },
  {
   "cell_type": "code",
   "execution_count": null,
   "id": "e86a671e",
   "metadata": {},
   "outputs": [],
   "source": [
    "df = tweets1.copy()\n",
    "df['subjectivity'] = df['text'].apply(getsubjectivity)\n",
    "df['polarity'] = df['text'].apply(getpolarity)\n",
    "df"
   ]
  },
  {
   "cell_type": "code",
   "execution_count": null,
   "id": "07f0b96b",
   "metadata": {
    "scrolled": false
   },
   "outputs": [],
   "source": [
    "# allwords put together all the tweets \n",
    "allwords = ' '.join([twts for twts in df['text']])\n",
    "wordCloud = WordCloud(width=500,height=300,random_state=22,max_font_size=119,collocations=False).generate(allwords)\n",
    "plt.figure(figsize = (8,20))\n",
    "plt.imshow(wordCloud,interpolation='nearest')\n",
    "plt.axis('off')\n",
    "plt.show()"
   ]
  },
  {
   "cell_type": "code",
   "execution_count": null,
   "id": "b525bcc1",
   "metadata": {},
   "outputs": [],
   "source": [
    "def getanalisys(score):\n",
    "    if score < 0 :\n",
    "        return 'Negative'\n",
    "    if score == 0:\n",
    "        return 'Neutral'\n",
    "    if score > 0:\n",
    "        return 'Positive'\n",
    "        "
   ]
  },
  {
   "cell_type": "code",
   "execution_count": null,
   "id": "9ce11539",
   "metadata": {
    "scrolled": false
   },
   "outputs": [],
   "source": [
    "df['Analysis'] = df['polarity'].apply(getanalisys)\n",
    "df"
   ]
  },
  {
   "cell_type": "code",
   "execution_count": null,
   "id": "6b9203ca",
   "metadata": {
    "scrolled": false
   },
   "outputs": [],
   "source": [
    "fig = px.histogram(df, x=\"Analysis\")\n",
    "fig.show()"
   ]
  }
 ],
 "metadata": {
  "hide_input": false,
  "kernelspec": {
   "display_name": "Python 3 (ipykernel)",
   "language": "python",
   "name": "python3"
  },
  "language_info": {
   "codemirror_mode": {
    "name": "ipython",
    "version": 3
   },
   "file_extension": ".py",
   "mimetype": "text/x-python",
   "name": "python",
   "nbconvert_exporter": "python",
   "pygments_lexer": "ipython3",
   "version": "3.9.7"
  },
  "toc": {
   "base_numbering": 1,
   "nav_menu": {},
   "number_sections": true,
   "sideBar": true,
   "skip_h1_title": false,
   "title_cell": "Table of Contents",
   "title_sidebar": "Contents",
   "toc_cell": false,
   "toc_position": {},
   "toc_section_display": true,
   "toc_window_display": false
  },
  "varInspector": {
   "cols": {
    "lenName": 16,
    "lenType": 16,
    "lenVar": 40
   },
   "kernels_config": {
    "python": {
     "delete_cmd_postfix": "",
     "delete_cmd_prefix": "del ",
     "library": "var_list.py",
     "varRefreshCmd": "print(var_dic_list())"
    },
    "r": {
     "delete_cmd_postfix": ") ",
     "delete_cmd_prefix": "rm(",
     "library": "var_list.r",
     "varRefreshCmd": "cat(var_dic_list()) "
    }
   },
   "types_to_exclude": [
    "module",
    "function",
    "builtin_function_or_method",
    "instance",
    "_Feature"
   ],
   "window_display": false
  }
 },
 "nbformat": 4,
 "nbformat_minor": 5
}
